{
 "cells": [
  {
   "cell_type": "code",
   "execution_count": 1,
   "id": "8599d227",
   "metadata": {},
   "outputs": [],
   "source": [
    "import pandas as pd\n",
    "import numpy as np"
   ]
  },
  {
   "cell_type": "code",
   "execution_count": 2,
   "id": "c5e23ff4",
   "metadata": {},
   "outputs": [],
   "source": [
    "df = pd.read_csv('movies_2017.csv')"
   ]
  },
  {
   "cell_type": "code",
   "execution_count": 3,
   "id": "a980c9a2",
   "metadata": {},
   "outputs": [
    {
     "data": {
      "text/html": [
       "<div>\n",
       "<style scoped>\n",
       "    .dataframe tbody tr th:only-of-type {\n",
       "        vertical-align: middle;\n",
       "    }\n",
       "\n",
       "    .dataframe tbody tr th {\n",
       "        vertical-align: top;\n",
       "    }\n",
       "\n",
       "    .dataframe thead th {\n",
       "        text-align: right;\n",
       "    }\n",
       "</style>\n",
       "<table border=\"1\" class=\"dataframe\">\n",
       "  <thead>\n",
       "    <tr style=\"text-align: right;\">\n",
       "      <th></th>\n",
       "      <th>Unnamed: 0</th>\n",
       "      <th>director_name</th>\n",
       "      <th>genres</th>\n",
       "      <th>movie_title</th>\n",
       "      <th>ratings</th>\n",
       "      <th>actors</th>\n",
       "      <th>combine</th>\n",
       "    </tr>\n",
       "  </thead>\n",
       "  <tbody>\n",
       "    <tr>\n",
       "      <th>0</th>\n",
       "      <td>0</td>\n",
       "      <td>James Cameron</td>\n",
       "      <td>Action Adventure Fantasy Sci-Fi</td>\n",
       "      <td>avatar</td>\n",
       "      <td>7.9</td>\n",
       "      <td>CCH Pounder Joel David Moore Wes Studi</td>\n",
       "      <td>James Cameron Action Adventure Fantasy Sci-Fi ...</td>\n",
       "    </tr>\n",
       "    <tr>\n",
       "      <th>1</th>\n",
       "      <td>1</td>\n",
       "      <td>Gore Verbinski</td>\n",
       "      <td>Action Adventure Fantasy</td>\n",
       "      <td>pirates of the caribbean: at world's end</td>\n",
       "      <td>7.1</td>\n",
       "      <td>Johnny Depp Orlando Bloom Jack Davenport</td>\n",
       "      <td>Gore Verbinski Action Adventure Fantasy pirate...</td>\n",
       "    </tr>\n",
       "    <tr>\n",
       "      <th>2</th>\n",
       "      <td>2</td>\n",
       "      <td>Sam Mendes</td>\n",
       "      <td>Action Adventure Thriller</td>\n",
       "      <td>spectre</td>\n",
       "      <td>6.8</td>\n",
       "      <td>Christoph Waltz Rory Kinnear Stephanie Sigman</td>\n",
       "      <td>Sam Mendes Action Adventure Thriller spectre C...</td>\n",
       "    </tr>\n",
       "    <tr>\n",
       "      <th>3</th>\n",
       "      <td>3</td>\n",
       "      <td>Christopher Nolan</td>\n",
       "      <td>Action Thriller</td>\n",
       "      <td>the dark knight rises</td>\n",
       "      <td>8.5</td>\n",
       "      <td>Tom Hardy Christian Bale Joseph Gordon-Levitt</td>\n",
       "      <td>Christopher Nolan Action Thriller the dark kni...</td>\n",
       "    </tr>\n",
       "    <tr>\n",
       "      <th>4</th>\n",
       "      <td>4</td>\n",
       "      <td>Doug Walker</td>\n",
       "      <td>Documentary</td>\n",
       "      <td>star wars: episode vii - the force awakens    ...</td>\n",
       "      <td>7.1</td>\n",
       "      <td>Doug Walker Rob Walker Unknown</td>\n",
       "      <td>Doug Walker Documentary star wars: episode vii...</td>\n",
       "    </tr>\n",
       "  </tbody>\n",
       "</table>\n",
       "</div>"
      ],
      "text/plain": [
       "   Unnamed: 0      director_name                           genres  \\\n",
       "0           0      James Cameron  Action Adventure Fantasy Sci-Fi   \n",
       "1           1     Gore Verbinski         Action Adventure Fantasy   \n",
       "2           2         Sam Mendes        Action Adventure Thriller   \n",
       "3           3  Christopher Nolan                  Action Thriller   \n",
       "4           4        Doug Walker                      Documentary   \n",
       "\n",
       "                                         movie_title  ratings  \\\n",
       "0                                             avatar      7.9   \n",
       "1           pirates of the caribbean: at world's end      7.1   \n",
       "2                                            spectre      6.8   \n",
       "3                              the dark knight rises      8.5   \n",
       "4  star wars: episode vii - the force awakens    ...      7.1   \n",
       "\n",
       "                                          actors  \\\n",
       "0         CCH Pounder Joel David Moore Wes Studi   \n",
       "1       Johnny Depp Orlando Bloom Jack Davenport   \n",
       "2  Christoph Waltz Rory Kinnear Stephanie Sigman   \n",
       "3  Tom Hardy Christian Bale Joseph Gordon-Levitt   \n",
       "4                 Doug Walker Rob Walker Unknown   \n",
       "\n",
       "                                             combine  \n",
       "0  James Cameron Action Adventure Fantasy Sci-Fi ...  \n",
       "1  Gore Verbinski Action Adventure Fantasy pirate...  \n",
       "2  Sam Mendes Action Adventure Thriller spectre C...  \n",
       "3  Christopher Nolan Action Thriller the dark kni...  \n",
       "4  Doug Walker Documentary star wars: episode vii...  "
      ]
     },
     "execution_count": 3,
     "metadata": {},
     "output_type": "execute_result"
    }
   ],
   "source": [
    "df.head()"
   ]
  },
  {
   "cell_type": "code",
   "execution_count": 4,
   "id": "df87e5f3",
   "metadata": {},
   "outputs": [],
   "source": [
    "df.drop('Unnamed: 0',axis=1,inplace=True)"
   ]
  },
  {
   "cell_type": "code",
   "execution_count": 6,
   "id": "b3b4a959",
   "metadata": {},
   "outputs": [
    {
     "name": "stdout",
     "output_type": "stream",
     "text": [
      "Collecting tmdbv3api\n",
      "  Downloading tmdbv3api-1.7.7-py2.py3-none-any.whl (18 kB)\n",
      "Requirement already satisfied: requests in c:\\users\\vijit kumar\\.conda\\envs\\notebook\\lib\\site-packages (from tmdbv3api) (2.27.1)\n",
      "Requirement already satisfied: idna<4,>=2.5 in c:\\users\\vijit kumar\\.conda\\envs\\notebook\\lib\\site-packages (from requests->tmdbv3api) (3.3)\n",
      "Requirement already satisfied: charset-normalizer~=2.0.0 in c:\\users\\vijit kumar\\.conda\\envs\\notebook\\lib\\site-packages (from requests->tmdbv3api) (2.0.10)\n",
      "Requirement already satisfied: urllib3<1.27,>=1.21.1 in c:\\users\\vijit kumar\\.conda\\envs\\notebook\\lib\\site-packages (from requests->tmdbv3api) (1.26.8)\n",
      "Requirement already satisfied: certifi>=2017.4.17 in c:\\users\\vijit kumar\\.conda\\envs\\notebook\\lib\\site-packages (from requests->tmdbv3api) (2021.10.8)\n",
      "Installing collected packages: tmdbv3api\n",
      "Successfully installed tmdbv3api-1.7.7\n"
     ]
    }
   ],
   "source": [
    "!pip install tmdbv3api"
   ]
  },
  {
   "cell_type": "code",
   "execution_count": 5,
   "id": "57ecd1b3",
   "metadata": {},
   "outputs": [],
   "source": [
    "from tmdbv3api import Movie\n",
    "from tmdbv3api import TMDb\n",
    "import json\n",
    "import requests\n",
    "tmdb = TMDb()"
   ]
  },
  {
   "cell_type": "code",
   "execution_count": 135,
   "id": "9dbf773f",
   "metadata": {},
   "outputs": [],
   "source": [
    "from tmdbv3api import Movie\n",
    "tmdb_movie = Movie()\n",
    "tmdb.api_key = '713029e82f60e1b15a9075af71e879c1'\n",
    "def get_id(x):\n",
    "    result = tmdb_movie.search(x)\n",
    "    movie_id = result[0].id\n",
    "    response = requests.get('https://api.themoviedb.org/3/movie/{}?api_key={}'.format(movie_id,tmdb.api_key))\n",
    "    data_json = response.json()\n",
    "    s =  data_json['id']\n",
    "    return s\n",
    " "
   ]
  },
  {
   "cell_type": "code",
   "execution_count": 34,
   "id": "01ab272d",
   "metadata": {},
   "outputs": [],
   "source": [
    "df1 = df.copy()"
   ]
  },
  {
   "cell_type": "code",
   "execution_count": 85,
   "id": "cc38d458",
   "metadata": {},
   "outputs": [],
   "source": [
    "search = tmdb_movie.search('Mad Max')\n",
    "\n",
    "for res in search:\n",
    "    print(res.id)"
   ]
  },
  {
   "cell_type": "code",
   "execution_count": 86,
   "id": "ce8bc44d",
   "metadata": {},
   "outputs": [
    {
     "data": {
      "text/plain": [
       "19995"
      ]
     },
     "execution_count": 86,
     "metadata": {},
     "output_type": "execute_result"
    }
   ],
   "source": [
    "movie_id"
   ]
  },
  {
   "cell_type": "code",
   "execution_count": 154,
   "id": "8d2a087c",
   "metadata": {},
   "outputs": [
    {
     "data": {
      "text/plain": [
       "5441"
      ]
     },
     "execution_count": 154,
     "metadata": {},
     "output_type": "execute_result"
    }
   ],
   "source": [
    "\n",
    "df.drop_duplicates('movie_title',keep='last',inplace=True)\n",
    "s = list(df['movie_title'])\n",
    "len(s)"
   ]
  },
  {
   "cell_type": "code",
   "execution_count": 155,
   "id": "d5bdf9d6",
   "metadata": {},
   "outputs": [
    {
     "data": {
      "text/plain": [
       "director_name    0\n",
       "genres           0\n",
       "movie_title      0\n",
       "ratings          0\n",
       "actors           0\n",
       "combine          0\n",
       "dtype: int64"
      ]
     },
     "execution_count": 155,
     "metadata": {},
     "output_type": "execute_result"
    }
   ],
   "source": [
    "df.isnull().sum()"
   ]
  },
  {
   "cell_type": "code",
   "execution_count": 93,
   "id": "320e2212",
   "metadata": {},
   "outputs": [],
   "source": [
    "movie = Movie()"
   ]
  },
  {
   "cell_type": "code",
   "execution_count": 128,
   "id": "1c1f1853",
   "metadata": {},
   "outputs": [],
   "source": [
    "\"\"\"def get_id(x):\n",
    "    #poster = []\n",
    "    result = tmdb_movie.search(x)\n",
    "    movie_id = result[0].id\n",
    "    response = requests.get('https://api.themoviedb.org/3/movie/{}?api_key={}'.format(movie_id,tmdb.api_key))\n",
    "    data_json = response.json()\n",
    "    return data_json['id']\"\"\""
   ]
  },
  {
   "cell_type": "code",
   "execution_count": null,
   "id": "f34a6268",
   "metadata": {},
   "outputs": [],
   "source": []
  },
  {
   "cell_type": "code",
   "execution_count": 156,
   "id": "6aaca8da",
   "metadata": {},
   "outputs": [
    {
     "ename": "IndexError",
     "evalue": "list index out of range",
     "output_type": "error",
     "traceback": [
      "\u001b[1;31m---------------------------------------------------------------------------\u001b[0m",
      "\u001b[1;31mIndexError\u001b[0m                                Traceback (most recent call last)",
      "\u001b[1;32mC:\\Users\\VIJITK~1\\AppData\\Local\\Temp/ipykernel_13456/2886407558.py\u001b[0m in \u001b[0;36m<module>\u001b[1;34m\u001b[0m\n\u001b[0;32m      1\u001b[0m \u001b[0mmovie_id\u001b[0m \u001b[1;33m=\u001b[0m \u001b[1;33m[\u001b[0m\u001b[1;33m]\u001b[0m\u001b[1;33m\u001b[0m\u001b[1;33m\u001b[0m\u001b[0m\n\u001b[0;32m      2\u001b[0m \u001b[1;32mfor\u001b[0m \u001b[0mi\u001b[0m \u001b[1;32min\u001b[0m \u001b[0mlist\u001b[0m\u001b[1;33m(\u001b[0m\u001b[0mdf\u001b[0m\u001b[1;33m[\u001b[0m\u001b[1;34m'movie_title'\u001b[0m\u001b[1;33m]\u001b[0m\u001b[1;33m)\u001b[0m\u001b[1;33m:\u001b[0m\u001b[1;33m\u001b[0m\u001b[1;33m\u001b[0m\u001b[0m\n\u001b[1;32m----> 3\u001b[1;33m     \u001b[0ms\u001b[0m \u001b[1;33m=\u001b[0m \u001b[0mget_id\u001b[0m\u001b[1;33m(\u001b[0m\u001b[0mi\u001b[0m\u001b[1;33m)\u001b[0m\u001b[1;33m\u001b[0m\u001b[1;33m\u001b[0m\u001b[0m\n\u001b[0m\u001b[0;32m      4\u001b[0m     \u001b[0mmovie_id\u001b[0m\u001b[1;33m.\u001b[0m\u001b[0mappend\u001b[0m\u001b[1;33m(\u001b[0m\u001b[0ms\u001b[0m\u001b[1;33m)\u001b[0m\u001b[1;33m\u001b[0m\u001b[1;33m\u001b[0m\u001b[0m\n",
      "\u001b[1;32mC:\\Users\\VIJITK~1\\AppData\\Local\\Temp/ipykernel_13456/367919544.py\u001b[0m in \u001b[0;36mget_id\u001b[1;34m(x)\u001b[0m\n\u001b[0;32m      4\u001b[0m \u001b[1;32mdef\u001b[0m \u001b[0mget_id\u001b[0m\u001b[1;33m(\u001b[0m\u001b[0mx\u001b[0m\u001b[1;33m)\u001b[0m\u001b[1;33m:\u001b[0m\u001b[1;33m\u001b[0m\u001b[1;33m\u001b[0m\u001b[0m\n\u001b[0;32m      5\u001b[0m     \u001b[0mresult\u001b[0m \u001b[1;33m=\u001b[0m \u001b[0mtmdb_movie\u001b[0m\u001b[1;33m.\u001b[0m\u001b[0msearch\u001b[0m\u001b[1;33m(\u001b[0m\u001b[0mx\u001b[0m\u001b[1;33m)\u001b[0m\u001b[1;33m\u001b[0m\u001b[1;33m\u001b[0m\u001b[0m\n\u001b[1;32m----> 6\u001b[1;33m     \u001b[0mmovie_id\u001b[0m \u001b[1;33m=\u001b[0m \u001b[0mresult\u001b[0m\u001b[1;33m[\u001b[0m\u001b[1;36m0\u001b[0m\u001b[1;33m]\u001b[0m\u001b[1;33m.\u001b[0m\u001b[0mid\u001b[0m\u001b[1;33m\u001b[0m\u001b[1;33m\u001b[0m\u001b[0m\n\u001b[0m\u001b[0;32m      7\u001b[0m     \u001b[0mresponse\u001b[0m \u001b[1;33m=\u001b[0m \u001b[0mrequests\u001b[0m\u001b[1;33m.\u001b[0m\u001b[0mget\u001b[0m\u001b[1;33m(\u001b[0m\u001b[1;34m'https://api.themoviedb.org/3/movie/{}?api_key={}'\u001b[0m\u001b[1;33m.\u001b[0m\u001b[0mformat\u001b[0m\u001b[1;33m(\u001b[0m\u001b[0mmovie_id\u001b[0m\u001b[1;33m,\u001b[0m\u001b[0mtmdb\u001b[0m\u001b[1;33m.\u001b[0m\u001b[0mapi_key\u001b[0m\u001b[1;33m)\u001b[0m\u001b[1;33m)\u001b[0m\u001b[1;33m\u001b[0m\u001b[1;33m\u001b[0m\u001b[0m\n\u001b[0;32m      8\u001b[0m     \u001b[0mdata_json\u001b[0m \u001b[1;33m=\u001b[0m \u001b[0mresponse\u001b[0m\u001b[1;33m.\u001b[0m\u001b[0mjson\u001b[0m\u001b[1;33m(\u001b[0m\u001b[1;33m)\u001b[0m\u001b[1;33m\u001b[0m\u001b[1;33m\u001b[0m\u001b[0m\n",
      "\u001b[1;31mIndexError\u001b[0m: list index out of range"
     ]
    }
   ],
   "source": [
    "movie_id = []\n",
    "for i in list(df['movie_title']):\n",
    "    s = get_id(i)\n",
    "    movie_id.append(s)"
   ]
  },
  {
   "cell_type": "code",
   "execution_count": 139,
   "id": "a5711bbd",
   "metadata": {},
   "outputs": [
    {
     "data": {
      "text/plain": [
       "765"
      ]
     },
     "execution_count": 139,
     "metadata": {},
     "output_type": "execute_result"
    }
   ],
   "source": [
    "len(movie_id)"
   ]
  },
  {
   "cell_type": "code",
   "execution_count": 142,
   "id": "1a834061",
   "metadata": {},
   "outputs": [],
   "source": [
    "df2=df1[df1.index>765]"
   ]
  },
  {
   "cell_type": "code",
   "execution_count": 143,
   "id": "22d37589",
   "metadata": {},
   "outputs": [
    {
     "data": {
      "text/html": [
       "<div>\n",
       "<style scoped>\n",
       "    .dataframe tbody tr th:only-of-type {\n",
       "        vertical-align: middle;\n",
       "    }\n",
       "\n",
       "    .dataframe tbody tr th {\n",
       "        vertical-align: top;\n",
       "    }\n",
       "\n",
       "    .dataframe thead th {\n",
       "        text-align: right;\n",
       "    }\n",
       "</style>\n",
       "<table border=\"1\" class=\"dataframe\">\n",
       "  <thead>\n",
       "    <tr style=\"text-align: right;\">\n",
       "      <th></th>\n",
       "      <th>director_name</th>\n",
       "      <th>genres</th>\n",
       "      <th>movie_title</th>\n",
       "      <th>ratings</th>\n",
       "      <th>actors</th>\n",
       "      <th>combine</th>\n",
       "    </tr>\n",
       "  </thead>\n",
       "  <tbody>\n",
       "    <tr>\n",
       "      <th>766</th>\n",
       "      <td>John Dahl</td>\n",
       "      <td>Action Drama War</td>\n",
       "      <td>the great raid</td>\n",
       "      <td>6.7</td>\n",
       "      <td>James Franco Clayne Crawford Paolo Montalban</td>\n",
       "      <td>John Dahl Action Drama War the great raid Jame...</td>\n",
       "    </tr>\n",
       "    <tr>\n",
       "      <th>767</th>\n",
       "      <td>Tim Miller</td>\n",
       "      <td>Action Adventure Comedy Romance Sci-Fi</td>\n",
       "      <td>deadpool</td>\n",
       "      <td>8.1</td>\n",
       "      <td>Ryan Reynolds Ed Skrein Stefan Kapicic</td>\n",
       "      <td>Tim Miller Action Adventure Comedy Romance Sci...</td>\n",
       "    </tr>\n",
       "    <tr>\n",
       "      <th>768</th>\n",
       "      <td>Stephen Herek</td>\n",
       "      <td>Comedy Drama</td>\n",
       "      <td>holy man</td>\n",
       "      <td>4.9</td>\n",
       "      <td>Kelly Preston Morgan Fairchild Eric McCormack</td>\n",
       "      <td>Stephen Herek Comedy Drama holy man Kelly Pres...</td>\n",
       "    </tr>\n",
       "    <tr>\n",
       "      <th>769</th>\n",
       "      <td>Clint Eastwood</td>\n",
       "      <td>Action Biography Drama History Thriller War</td>\n",
       "      <td>american sniper</td>\n",
       "      <td>7.3</td>\n",
       "      <td>Bradley Cooper Leonard Roberts Keir O'Donnell</td>\n",
       "      <td>Clint Eastwood Action Biography Drama History ...</td>\n",
       "    </tr>\n",
       "    <tr>\n",
       "      <th>770</th>\n",
       "      <td>Unknown</td>\n",
       "      <td>Comedy Family Fantasy</td>\n",
       "      <td>sabrina, the teenage witch</td>\n",
       "      <td>6.6</td>\n",
       "      <td>Nate Richert Soleil Moon Frye Caroline Rhea</td>\n",
       "      <td>Unknown Comedy Family Fantasy sabrina, the tee...</td>\n",
       "    </tr>\n",
       "  </tbody>\n",
       "</table>\n",
       "</div>"
      ],
      "text/plain": [
       "      director_name                                       genres  \\\n",
       "766       John Dahl                             Action Drama War   \n",
       "767      Tim Miller       Action Adventure Comedy Romance Sci-Fi   \n",
       "768   Stephen Herek                                 Comedy Drama   \n",
       "769  Clint Eastwood  Action Biography Drama History Thriller War   \n",
       "770         Unknown                        Comedy Family Fantasy   \n",
       "\n",
       "                                movie_title  ratings  \\\n",
       "766                          the great raid      6.7   \n",
       "767                                deadpool      8.1   \n",
       "768                                holy man      4.9   \n",
       "769                         american sniper      7.3   \n",
       "770  sabrina, the teenage witch                  6.6   \n",
       "\n",
       "                                            actors  \\\n",
       "766   James Franco Clayne Crawford Paolo Montalban   \n",
       "767         Ryan Reynolds Ed Skrein Stefan Kapicic   \n",
       "768  Kelly Preston Morgan Fairchild Eric McCormack   \n",
       "769  Bradley Cooper Leonard Roberts Keir O'Donnell   \n",
       "770    Nate Richert Soleil Moon Frye Caroline Rhea   \n",
       "\n",
       "                                               combine  \n",
       "766  John Dahl Action Drama War the great raid Jame...  \n",
       "767  Tim Miller Action Adventure Comedy Romance Sci...  \n",
       "768  Stephen Herek Comedy Drama holy man Kelly Pres...  \n",
       "769  Clint Eastwood Action Biography Drama History ...  \n",
       "770  Unknown Comedy Family Fantasy sabrina, the tee...  "
      ]
     },
     "execution_count": 143,
     "metadata": {},
     "output_type": "execute_result"
    }
   ],
   "source": [
    "df2.head()"
   ]
  },
  {
   "cell_type": "code",
   "execution_count": 144,
   "id": "50cb6ebd",
   "metadata": {},
   "outputs": [
    {
     "ename": "IndexError",
     "evalue": "list index out of range",
     "output_type": "error",
     "traceback": [
      "\u001b[1;31m---------------------------------------------------------------------------\u001b[0m",
      "\u001b[1;31mIndexError\u001b[0m                                Traceback (most recent call last)",
      "\u001b[1;32mC:\\Users\\VIJITK~1\\AppData\\Local\\Temp/ipykernel_13456/590106939.py\u001b[0m in \u001b[0;36m<module>\u001b[1;34m\u001b[0m\n\u001b[0;32m      1\u001b[0m \u001b[1;32mfor\u001b[0m \u001b[0mi\u001b[0m \u001b[1;32min\u001b[0m \u001b[0mlist\u001b[0m\u001b[1;33m(\u001b[0m\u001b[0mdf2\u001b[0m\u001b[1;33m[\u001b[0m\u001b[1;34m'movie_title'\u001b[0m\u001b[1;33m]\u001b[0m\u001b[1;33m)\u001b[0m\u001b[1;33m:\u001b[0m\u001b[1;33m\u001b[0m\u001b[1;33m\u001b[0m\u001b[0m\n\u001b[1;32m----> 2\u001b[1;33m     \u001b[0ms\u001b[0m \u001b[1;33m=\u001b[0m \u001b[0mget_id\u001b[0m\u001b[1;33m(\u001b[0m\u001b[0mi\u001b[0m\u001b[1;33m)\u001b[0m\u001b[1;33m\u001b[0m\u001b[1;33m\u001b[0m\u001b[0m\n\u001b[0m\u001b[0;32m      3\u001b[0m     \u001b[0mmovie_id\u001b[0m\u001b[1;33m.\u001b[0m\u001b[0mappend\u001b[0m\u001b[1;33m(\u001b[0m\u001b[0ms\u001b[0m\u001b[1;33m)\u001b[0m\u001b[1;33m\u001b[0m\u001b[1;33m\u001b[0m\u001b[0m\n",
      "\u001b[1;32mC:\\Users\\VIJITK~1\\AppData\\Local\\Temp/ipykernel_13456/367919544.py\u001b[0m in \u001b[0;36mget_id\u001b[1;34m(x)\u001b[0m\n\u001b[0;32m      4\u001b[0m \u001b[1;32mdef\u001b[0m \u001b[0mget_id\u001b[0m\u001b[1;33m(\u001b[0m\u001b[0mx\u001b[0m\u001b[1;33m)\u001b[0m\u001b[1;33m:\u001b[0m\u001b[1;33m\u001b[0m\u001b[1;33m\u001b[0m\u001b[0m\n\u001b[0;32m      5\u001b[0m     \u001b[0mresult\u001b[0m \u001b[1;33m=\u001b[0m \u001b[0mtmdb_movie\u001b[0m\u001b[1;33m.\u001b[0m\u001b[0msearch\u001b[0m\u001b[1;33m(\u001b[0m\u001b[0mx\u001b[0m\u001b[1;33m)\u001b[0m\u001b[1;33m\u001b[0m\u001b[1;33m\u001b[0m\u001b[0m\n\u001b[1;32m----> 6\u001b[1;33m     \u001b[0mmovie_id\u001b[0m \u001b[1;33m=\u001b[0m \u001b[0mresult\u001b[0m\u001b[1;33m[\u001b[0m\u001b[1;36m0\u001b[0m\u001b[1;33m]\u001b[0m\u001b[1;33m.\u001b[0m\u001b[0mid\u001b[0m\u001b[1;33m\u001b[0m\u001b[1;33m\u001b[0m\u001b[0m\n\u001b[0m\u001b[0;32m      7\u001b[0m     \u001b[0mresponse\u001b[0m \u001b[1;33m=\u001b[0m \u001b[0mrequests\u001b[0m\u001b[1;33m.\u001b[0m\u001b[0mget\u001b[0m\u001b[1;33m(\u001b[0m\u001b[1;34m'https://api.themoviedb.org/3/movie/{}?api_key={}'\u001b[0m\u001b[1;33m.\u001b[0m\u001b[0mformat\u001b[0m\u001b[1;33m(\u001b[0m\u001b[0mmovie_id\u001b[0m\u001b[1;33m,\u001b[0m\u001b[0mtmdb\u001b[0m\u001b[1;33m.\u001b[0m\u001b[0mapi_key\u001b[0m\u001b[1;33m)\u001b[0m\u001b[1;33m)\u001b[0m\u001b[1;33m\u001b[0m\u001b[1;33m\u001b[0m\u001b[0m\n\u001b[0;32m      8\u001b[0m     \u001b[0mdata_json\u001b[0m \u001b[1;33m=\u001b[0m \u001b[0mresponse\u001b[0m\u001b[1;33m.\u001b[0m\u001b[0mjson\u001b[0m\u001b[1;33m(\u001b[0m\u001b[1;33m)\u001b[0m\u001b[1;33m\u001b[0m\u001b[1;33m\u001b[0m\u001b[0m\n",
      "\u001b[1;31mIndexError\u001b[0m: list index out of range"
     ]
    }
   ],
   "source": [
    "for i in list(df2['movie_title']):\n",
    "    s = get_id(i)\n",
    "    movie_id.append(s)"
   ]
  },
  {
   "cell_type": "code",
   "execution_count": 152,
   "id": "b902b782",
   "metadata": {},
   "outputs": [
    {
     "data": {
      "text/plain": [
       "13922"
      ]
     },
     "execution_count": 152,
     "metadata": {},
     "output_type": "execute_result"
    }
   ],
   "source": [
    "get_id('the great raid')"
   ]
  },
  {
   "cell_type": "code",
   "execution_count": 145,
   "id": "cb48e2ab",
   "metadata": {},
   "outputs": [
    {
     "data": {
      "text/plain": [
       "944"
      ]
     },
     "execution_count": 145,
     "metadata": {},
     "output_type": "execute_result"
    }
   ],
   "source": [
    "len(movie_id)"
   ]
  },
  {
   "cell_type": "code",
   "execution_count": 157,
   "id": "da912913",
   "metadata": {},
   "outputs": [],
   "source": [
    "df3=df1[df1.index>945]"
   ]
  },
  {
   "cell_type": "code",
   "execution_count": 158,
   "id": "639dff2d",
   "metadata": {},
   "outputs": [
    {
     "data": {
      "text/html": [
       "<div>\n",
       "<style scoped>\n",
       "    .dataframe tbody tr th:only-of-type {\n",
       "        vertical-align: middle;\n",
       "    }\n",
       "\n",
       "    .dataframe tbody tr th {\n",
       "        vertical-align: top;\n",
       "    }\n",
       "\n",
       "    .dataframe thead th {\n",
       "        text-align: right;\n",
       "    }\n",
       "</style>\n",
       "<table border=\"1\" class=\"dataframe\">\n",
       "  <thead>\n",
       "    <tr style=\"text-align: right;\">\n",
       "      <th></th>\n",
       "      <th>director_name</th>\n",
       "      <th>genres</th>\n",
       "      <th>movie_title</th>\n",
       "      <th>ratings</th>\n",
       "      <th>actors</th>\n",
       "      <th>combine</th>\n",
       "    </tr>\n",
       "  </thead>\n",
       "  <tbody>\n",
       "    <tr>\n",
       "      <th>946</th>\n",
       "      <td>Andrew Bergman</td>\n",
       "      <td>Comedy Crime Drama Thriller</td>\n",
       "      <td>striptease</td>\n",
       "      <td>4.3</td>\n",
       "      <td>Demi Moore Rumer Willis Paul Guilfoyle</td>\n",
       "      <td>Andrew Bergman Comedy Crime Drama Thriller str...</td>\n",
       "    </tr>\n",
       "    <tr>\n",
       "      <th>947</th>\n",
       "      <td>Tom Dey</td>\n",
       "      <td>Comedy Family</td>\n",
       "      <td>marmaduke</td>\n",
       "      <td>4.2</td>\n",
       "      <td>Emma Stone Judy Greer Steve Coogan</td>\n",
       "      <td>Tom Dey Comedy Family marmaduke Emma Stone Jud...</td>\n",
       "    </tr>\n",
       "    <tr>\n",
       "      <th>948</th>\n",
       "      <td>Clint Eastwood</td>\n",
       "      <td>Drama Fantasy</td>\n",
       "      <td>hereafter</td>\n",
       "      <td>6.5</td>\n",
       "      <td>Matt Damon Jay Mohr Cécile De France</td>\n",
       "      <td>Clint Eastwood Drama Fantasy hereafter Matt Da...</td>\n",
       "    </tr>\n",
       "    <tr>\n",
       "      <th>949</th>\n",
       "      <td>Richard Donner</td>\n",
       "      <td>Action Crime Thriller</td>\n",
       "      <td>assassins</td>\n",
       "      <td>6.3</td>\n",
       "      <td>Muse Watson Sylvester Stallone Kelly Rowan</td>\n",
       "      <td>Richard Donner Action Crime Thriller assassins...</td>\n",
       "    </tr>\n",
       "    <tr>\n",
       "      <th>950</th>\n",
       "      <td>Peter Webber</td>\n",
       "      <td>Crime Drama Thriller</td>\n",
       "      <td>hannibal rising</td>\n",
       "      <td>6.2</td>\n",
       "      <td>Li Gong Stephen Walters Richard Brake</td>\n",
       "      <td>Peter Webber Crime Drama Thriller hannibal ris...</td>\n",
       "    </tr>\n",
       "  </tbody>\n",
       "</table>\n",
       "</div>"
      ],
      "text/plain": [
       "      director_name                       genres      movie_title  ratings  \\\n",
       "946  Andrew Bergman  Comedy Crime Drama Thriller       striptease      4.3   \n",
       "947         Tom Dey                Comedy Family        marmaduke      4.2   \n",
       "948  Clint Eastwood                Drama Fantasy        hereafter      6.5   \n",
       "949  Richard Donner        Action Crime Thriller        assassins      6.3   \n",
       "950    Peter Webber         Crime Drama Thriller  hannibal rising      6.2   \n",
       "\n",
       "                                         actors  \\\n",
       "946      Demi Moore Rumer Willis Paul Guilfoyle   \n",
       "947          Emma Stone Judy Greer Steve Coogan   \n",
       "948        Matt Damon Jay Mohr Cécile De France   \n",
       "949  Muse Watson Sylvester Stallone Kelly Rowan   \n",
       "950       Li Gong Stephen Walters Richard Brake   \n",
       "\n",
       "                                               combine  \n",
       "946  Andrew Bergman Comedy Crime Drama Thriller str...  \n",
       "947  Tom Dey Comedy Family marmaduke Emma Stone Jud...  \n",
       "948  Clint Eastwood Drama Fantasy hereafter Matt Da...  \n",
       "949  Richard Donner Action Crime Thriller assassins...  \n",
       "950  Peter Webber Crime Drama Thriller hannibal ris...  "
      ]
     },
     "execution_count": 158,
     "metadata": {},
     "output_type": "execute_result"
    }
   ],
   "source": [
    "df3.head()"
   ]
  },
  {
   "cell_type": "code",
   "execution_count": null,
   "id": "3f08d527",
   "metadata": {},
   "outputs": [],
   "source": [
    "for i in list(df3['movie_title']):\n",
    "    s = get_id(i)\n",
    "    movie_id.append(s)"
   ]
  },
  {
   "cell_type": "code",
   "execution_count": null,
   "id": "2f7efe87",
   "metadata": {},
   "outputs": [],
   "source": [
    "#mukesh.b@ineuron.ai"
   ]
  }
 ],
 "metadata": {
  "kernelspec": {
   "display_name": "Python 3 (ipykernel)",
   "language": "python",
   "name": "python3"
  },
  "language_info": {
   "codemirror_mode": {
    "name": "ipython",
    "version": 3
   },
   "file_extension": ".py",
   "mimetype": "text/x-python",
   "name": "python",
   "nbconvert_exporter": "python",
   "pygments_lexer": "ipython3",
   "version": "3.9.7"
  }
 },
 "nbformat": 4,
 "nbformat_minor": 5
}
